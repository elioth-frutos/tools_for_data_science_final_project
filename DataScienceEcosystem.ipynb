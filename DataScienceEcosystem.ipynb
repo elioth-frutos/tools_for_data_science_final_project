{
 "cells": [
  {
   "cell_type": "markdown",
   "id": "f0488574-5775-4da7-b02b-92c00647b463",
   "metadata": {},
   "source": [
    "# Data Science Tools and Ecosystem"
   ]
  },
  {
   "cell_type": "markdown",
   "id": "d83943a7-cea1-4253-b014-6d34f0096684",
   "metadata": {},
   "source": [
    "In this notebook, Data Science Tools and Ecosystem are summarized."
   ]
  },
  {
   "cell_type": "markdown",
   "id": "15b75b16-ec98-4b41-9af9-6bb82c2b93f6",
   "metadata": {},
   "source": [
    "**Objectives:**\n",
    "- List popular languages for Data Science.\n",
    "- Learn to use the Jupyter Notebooks tool.\n",
    "- Practicing some features of the Markdown language.\n",
    "- List some popular libraries used in Data Science."
   ]
  },
  {
   "cell_type": "markdown",
   "id": "d5dfd691-964f-4493-8442-209b3b406e96",
   "metadata": {},
   "source": [
    "Some of the popular languages that Data Scientists use are:\n",
    "1. Python\n",
    "2. R\n",
    "3. Julia"
   ]
  },
  {
   "cell_type": "markdown",
   "id": "c6a76cd3-78e2-4885-8e92-233efc521a98",
   "metadata": {},
   "source": [
    "Some of the commonly used libraries used by Data Scientists include:\n",
    "1. ggplot2\n",
    "2. Pandas\n",
    "3. Scikit-learn"
   ]
  },
  {
   "cell_type": "markdown",
   "id": "1423edd1-23d7-4127-b02c-1656f40cb290",
   "metadata": {},
   "source": [
    "Data Science Tools |\n",
    "- |\n",
    "Jupyter Notebooks |\n",
    "Git |\n",
    "Tensorflow |"
   ]
  },
  {
   "cell_type": "markdown",
   "id": "511a5a3b-d285-4b00-bf4a-d53a36221a15",
   "metadata": {},
   "source": [
    "### Below are a few examples of evaluating arithmetic expressions in Python"
   ]
  },
  {
   "cell_type": "code",
   "execution_count": 3,
   "id": "cfbc4e6b-fcd5-4f1e-b61f-61c35929055b",
   "metadata": {},
   "outputs": [
    {
     "data": {
      "text/plain": [
       "17"
      ]
     },
     "execution_count": 3,
     "metadata": {},
     "output_type": "execute_result"
    }
   ],
   "source": [
    "# This is a simple arithmetic expressions to multiply then add integers.\n",
    "(3*4)+5"
   ]
  },
  {
   "cell_type": "code",
   "execution_count": 4,
   "id": "dc174a26-9c20-4ed2-adee-0499412e26ee",
   "metadata": {},
   "outputs": [
    {
     "data": {
      "text/plain": [
       "3.3333333333333335"
      ]
     },
     "execution_count": 4,
     "metadata": {},
     "output_type": "execute_result"
    }
   ],
   "source": [
    "# This will convert 200 minutes to hours by dividing by 60\n",
    "(200/60)"
   ]
  },
  {
   "cell_type": "markdown",
   "id": "2ddd696f-9f5b-4543-9449-9d29953426ee",
   "metadata": {},
   "source": [
    "## Author\n",
    "Elioth Frutos"
   ]
  }
 ],
 "metadata": {
  "kernelspec": {
   "display_name": "Python 3 (ipykernel)",
   "language": "python",
   "name": "python3"
  },
  "language_info": {
   "codemirror_mode": {
    "name": "ipython",
    "version": 3
   },
   "file_extension": ".py",
   "mimetype": "text/x-python",
   "name": "python",
   "nbconvert_exporter": "python",
   "pygments_lexer": "ipython3",
   "version": "3.10.12"
  }
 },
 "nbformat": 4,
 "nbformat_minor": 5
}
